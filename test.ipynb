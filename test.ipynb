{
 "cells": [
  {
   "cell_type": "code",
   "execution_count": null,
   "metadata": {},
   "outputs": [],
   "source": [
    "import random\n",
    "hiragana = dict(a='あ',i='い',u='う',e='え',o='お',\n",
    "                    ka='か',ki='き',ku='く',ke='け',ko='こ',\n",
    "                    sa='さ',si='し',su='す',se='せ',so='そ',\n",
    "                    ta='た',ti='ち',tu='つ',te='て',to='と',\n",
    "                    na='な',ni='に',nu='ぬ',ne='ね',no='の',\n",
    "                    ha='は',hi='ひ',hu='ふ',he='へ',ho='ほ',\n",
    "                    ma='ま',mi='み',mu='む',me='め',mo='も',\n",
    "                    ya='ya',yu='ゆ',yo='よ',\n",
    "                    wa='わ',wo='を',n='ん')\n",
    "key = random.choice(list(hiragana.keys()))\n",
    "output = f\"請寫出{key}的假名\"\n",
    "output"
   ]
  },
  {
   "cell_type": "code",
   "execution_count": null,
   "metadata": {},
   "outputs": [],
   "source": [
    "s3 = 'm.mp3'\n",
    "s3.rsplit('.')[0]"
   ]
  },
  {
   "cell_type": "code",
   "execution_count": null,
   "metadata": {},
   "outputs": [],
   "source": [
    "prediction_options=('あ','い','う','え','お',\n",
    "                        'か','き','く','け','こ',\n",
    "                        'さ','し','す','せ','そ',\n",
    "                        'た','ち','つ','て','と',\n",
    "                        'な','に','ぬ','ね','の',\n",
    "                        'は','ひ','ふ','へ','ほ',\n",
    "                        'ま','み','む','め','も',\n",
    "                        'や','ゆ','よ',\n",
    "                        'ら','り','る','れ','ろ',\n",
    "                        'わ','を','ん')\n",
    "prediction_options[3]"
   ]
  },
  {
   "cell_type": "code",
   "execution_count": null,
   "metadata": {},
   "outputs": [],
   "source": [
    "i='[1,2,3,4,5,6,7,8]'\n",
    "b=eval(i)\n",
    "b[0]=4\n",
    "c=str(b)\n",
    "c"
   ]
  },
  {
   "cell_type": "code",
   "execution_count": null,
   "metadata": {},
   "outputs": [],
   "source": [
    "a=[0, 0, -1, 0, 0, 0, -1, 0, 0]\n",
    "rate = min(a)\n",
    "index = a.index(rate)\n",
    "index"
   ]
  }
 ],
 "metadata": {
  "kernelspec": {
   "display_name": "Python 3.10.8 64-bit",
   "language": "python",
   "name": "python3"
  },
  "language_info": {
   "codemirror_mode": {
    "name": "ipython",
    "version": 3
   },
   "file_extension": ".py",
   "mimetype": "text/x-python",
   "name": "python",
   "nbconvert_exporter": "python",
   "pygments_lexer": "ipython3",
   "version": "3.10.8 (main, Oct 12 2022, 09:46:29) [Clang 14.0.0 (clang-1400.0.29.102)]"
  },
  "orig_nbformat": 4,
  "vscode": {
   "interpreter": {
    "hash": "aee8b7b246df8f9039afb4144a1f6fd8d2ca17a180786b69acc140d282b71a49"
   }
  }
 },
 "nbformat": 4,
 "nbformat_minor": 2
}
