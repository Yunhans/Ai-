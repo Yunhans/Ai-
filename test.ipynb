{
 "cells": [
  {
   "cell_type": "code",
   "execution_count": 19,
   "metadata": {},
   "outputs": [
    {
     "data": {
      "text/plain": [
       "'請寫出に'"
      ]
     },
     "execution_count": 19,
     "metadata": {},
     "output_type": "execute_result"
    }
   ],
   "source": [
    "import random\n",
    "hiragana = dict(a='あ',i='い',u='う',e='え',o='お',\n",
    "                    ka='か',ki='き',ku='く',ke='け',ko='こ',\n",
    "                    sa='さ',si='し',su='す',se='せ',so='そ',\n",
    "                    ta='た',ti='ち',tu='つ',te='て',to='と',\n",
    "                    na='な',ni='に',nu='ぬ',ne='ね',no='の',\n",
    "                    ha='は',hi='ひ',hu='ふ',he='へ',ho='ほ',\n",
    "                    ma='ま',mi='み',mu='む',me='め',mo='も',\n",
    "                    ya='ya',yu='ゆ',yo='よ',\n",
    "                    wa='わ',wo='を',n='ん')\n",
    "key = random.choice(list(hiragana.keys()))\n",
    "output = f\"請寫出{hiragana[key]}\"\n",
    "output"
   ]
  }
 ],
 "metadata": {
  "kernelspec": {
   "display_name": "Python 3.10.8 64-bit",
   "language": "python",
   "name": "python3"
  },
  "language_info": {
   "codemirror_mode": {
    "name": "ipython",
    "version": 3
   },
   "file_extension": ".py",
   "mimetype": "text/x-python",
   "name": "python",
   "nbconvert_exporter": "python",
   "pygments_lexer": "ipython3",
   "version": "3.10.8"
  },
  "orig_nbformat": 4,
  "vscode": {
   "interpreter": {
    "hash": "aee8b7b246df8f9039afb4144a1f6fd8d2ca17a180786b69acc140d282b71a49"
   }
  }
 },
 "nbformat": 4,
 "nbformat_minor": 2
}
